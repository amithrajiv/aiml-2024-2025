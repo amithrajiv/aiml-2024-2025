{
  "nbformat": 4,
  "nbformat_minor": 0,
  "metadata": {
    "colab": {
      "provenance": [],
      "authorship_tag": "ABX9TyOyZfS7odP8F61KAq67hAp5",
      "include_colab_link": true
    },
    "kernelspec": {
      "name": "python3",
      "display_name": "Python 3"
    },
    "language_info": {
      "name": "python"
    }
  },
  "cells": [
    {
      "cell_type": "markdown",
      "metadata": {
        "id": "view-in-github",
        "colab_type": "text"
      },
      "source": [
        "<a href=\"https://colab.research.google.com/github/amithrajiv/aiml-2024-2025/blob/main/Lab3.ipynb\" target=\"_parent\"><img src=\"https://colab.research.google.com/assets/colab-badge.svg\" alt=\"Open In Colab\"/></a>"
      ]
    },
    {
      "cell_type": "code",
      "execution_count": null,
      "metadata": {
        "id": "5hKsGencN_jH"
      },
      "outputs": [],
      "source": [
        "from collections import namedtuple, Counter, defaultdict\n",
        "import random\n",
        "import math\n",
        "import functools\n",
        "cache = functools.lru_cache(10**6)"
      ]
    },
    {
      "cell_type": "code",
      "source": [
        "class Game:\n",
        "  \"\"\"A game is similar to a problem but it has a termination\n",
        "    a goal test, and a utility for each terminal state,to\n",
        "    subclass and implement actions, result, is_terminal,utility,\"\"\"\n",
        "\n",
        "  def actions (self , state ):\n",
        "    '''Return a collection of the allowable moves from this state .'''\n",
        "    raise NotImplementedError\n",
        "\n",
        "  def result (self , state , move ):\n",
        "    '''Return the state that results from making a move from a state .'''\n",
        "    raise NotImplementedError\n",
        "\n",
        "  def is_terminal (self , state ):\n",
        "    #Return True if this is a final state for the game.”””\n",
        "    return not self. actions (state)\n",
        "\n",
        "  def utility (self , state , player ):\n",
        "  #  ”””Return the value of this final state to player.”””\n",
        "    raise NotImplementedError"
      ],
      "metadata": {
        "id": "bdNVDN2tO4Qe"
      },
      "execution_count": 9,
      "outputs": []
    },
    {
      "cell_type": "code",
      "source": [
        "def play_game(game, strategies: dict, verbosde=False):\n",
        "  state = game.initial\n",
        "  while not game.is_terminal(state):\n",
        "    player = state.to_move\n",
        "    move = strategies[player](game, state)\n",
        "    state = game.result(state, move)\n",
        "    if verbosde:\n",
        "      print('Player', player, 'move:', move)\n",
        "  return state"
      ],
      "metadata": {
        "id": "y8qt0PvTUUij"
      },
      "execution_count": null,
      "outputs": []
    },
    {
      "cell_type": "code",
      "source": [
        "def minimax_search(game, state):\n",
        "    player = state.to_move\n",
        "\n",
        "    def max_value(state):\n",
        "        if game.is_terminal(state):\n",
        "            return game.utility(state, player), None\n",
        "        v, move = float('-inf'), None\n",
        "        for a in game.actions(state):\n",
        "            v2, _ = min_value(game.result(state, a))\n",
        "            if v2 > v:\n",
        "                v, move = v2, a\n",
        "        return v, move\n",
        "\n",
        "    def min_value(state):\n",
        "        if game.is_terminal(state):\n",
        "            return game.utility(state, player), None\n",
        "        v, move = float('inf'), None\n",
        "        for a in game.actions(state):\n",
        "            v2, _ = max_value(game.result(state, a))\n",
        "            if v2 < v:\n",
        "                v, move = v2, a\n",
        "        return v, move\n",
        "\n",
        "    _, move = max_value(state)\n",
        "    return move"
      ],
      "metadata": {
        "id": "THfFibSsaGhX"
      },
      "execution_count": 7,
      "outputs": []
    }
  ]
}